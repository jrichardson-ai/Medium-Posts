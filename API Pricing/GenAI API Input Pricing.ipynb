{
 "cells": [
  {
   "cell_type": "code",
   "execution_count": 2,
   "id": "c78ccb4a-3e4c-424a-bdab-5fcf2a21751c",
   "metadata": {},
   "outputs": [
    {
     "name": "stdout",
     "output_type": "stream",
     "text": [
      "PDF Cost {'Total Tokens': 2007, 'Estimated API Cost ($)': 0.0003}\n",
      "Extracted Text Cost {'Total Tokens': 1689, 'Estimated API Cost ($)': 0.0003}\n"
     ]
    }
   ],
   "source": [
    "import requests\n",
    "import fitz  # PyMuPDF\n",
    "from io import BytesIO\n",
    "import tiktoken  # OpenAI's tokenizer\n",
    "\n",
    "def count_tokens(text):\n",
    "    \"\"\"Counts tokens in a given text string using OpenAI's tokenizer.\"\"\"\n",
    "    enc = tiktoken.get_encoding(\"cl100k_base\")  # GPT-4 / GPT-3.5 tokenizer\n",
    "    return len(enc.encode(text))\n",
    "\n",
    "#in USD$ per 1M(illion) tokens\n",
    "api_rates = {'gpt-4.5-preview' : 75,\n",
    "                'gpt-4o' : 2.5,\n",
    "                'gpt-4o-audio-preview' : 2.5,\n",
    "                'gpt-4o-realtime-preview' : 5,\n",
    "                'gpt-4o-mini' : 0.15,\n",
    "                'gpt-4o-mini-audio-preview' : 0.15,\n",
    "                'gpt-4o-mini-realtime-preview' : 0.6,\n",
    "                'o1' : 15,\n",
    "                'o3-mini' : 1.1,\n",
    "                'o1-mini' : 1.1}\n",
    "\n",
    "#genai is the key in the dictionary api_rates\n",
    "def token_cost(genai, token_count):\n",
    "    \"\"\"Gives cost of tokens for a given model 'genai' and token count 'token_count' .\"\"\"\n",
    "    ai_cost = round((token_count / 1000000) * api_rates[genai], 4)\n",
    "    return ai_cost\n",
    "\n",
    "#reads a pdf from local or URL -- URL needs to start with 'http'\n",
    "def extract_full_pdf_text(source):\n",
    "    \"\"\"Fetches and extracts raw text from a PDF from URL or local file.\"\"\"\n",
    "    \n",
    "    if source.lower().startswith(\"http\"):\n",
    "        # It's a URL, download the PDF\n",
    "        headers = {\"User-Agent\": \"Mozilla/5.0\"}\n",
    "        response = requests.get(source)\n",
    "        \n",
    "        if response.status_code != 200:\n",
    "            raise ValueError(f\"Failed to fetch PDF from URL: {source}\")\n",
    "        \n",
    "        pdf_bytes = BytesIO(response.content)\n",
    "        document = fitz.open(\"pdf\", pdf_bytes)\n",
    "    \n",
    "    else:\n",
    "        # It's a local file\n",
    "        document = fitz.open(source)\n",
    "\n",
    "    # Extract full text from all pages\n",
    "    full_text = \"\\n\".join([page.get_text(\"text\") for page in document])\n",
    "    document.close()\n",
    "\n",
    "    return full_text.strip()\n",
    "def get_est_genai_cost(source, ai):\n",
    "    \"\"\"Extracts full text from a PDF or txt file and estimates token count and API cost.\"\"\"\n",
    "    \n",
    "    if source.lower().endswith('.txt'):\n",
    "        # Handle plain text files\n",
    "        with open(source, 'r', encoding='utf-8') as f:\n",
    "            full_text = f.read()\n",
    "    else:\n",
    "        # Handle PDFs or URLs\n",
    "        full_text = extract_full_pdf_text(source)\n",
    "    \n",
    "    token_count = count_tokens(full_text)\n",
    "    api_cost = token_cost(ai, token_count)\n",
    "\n",
    "    return {\n",
    "        \"Total Tokens\": token_count,\n",
    "        \"Estimated API Cost ($)\": api_cost\n",
    "    }\n",
    "\n",
    "# Example usage\n",
    "pdf_url = \"https://www.finra.org/sites/default/files/2025-03/Regulatory-Notice-25-03.pdf\"\n",
    "token_info = get_est_genai_cost(pdf_url, \"gpt-4o-mini\")\n",
    "print(\"PDF Cost\", token_info)\n",
    "text_version_path = \"pdf_text.txt\"\n",
    "token_info = get_est_genai_cost(text_version_path, \"gpt-4o-mini\")\n",
    "print(\"Extracted Text Cost\", token_info)"
   ]
  },
  {
   "cell_type": "code",
   "execution_count": null,
   "id": "0dafe678-2d3b-423a-b176-c970a382b9ca",
   "metadata": {},
   "outputs": [],
   "source": []
  }
 ],
 "metadata": {
  "kernelspec": {
   "display_name": "Python [conda env:AITraining]",
   "language": "python",
   "name": "conda-env-AITraining-py"
  },
  "language_info": {
   "codemirror_mode": {
    "name": "ipython",
    "version": 3
   },
   "file_extension": ".py",
   "mimetype": "text/x-python",
   "name": "python",
   "nbconvert_exporter": "python",
   "pygments_lexer": "ipython3",
   "version": "3.12.2"
  }
 },
 "nbformat": 4,
 "nbformat_minor": 5
}
